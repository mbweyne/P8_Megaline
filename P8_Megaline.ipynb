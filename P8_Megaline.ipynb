{
  "cells": [
    {
      "cell_type": "code",
      "execution_count": 1,
      "metadata": {
        "id": "2u5hslL-Nvpm"
      },
      "outputs": [],
      "source": [
        "import pandas as pd\n",
        "from sklearn.model_selection import train_test_split, GridSearchCV\n",
        "from sklearn.linear_model import LogisticRegression\n",
        "from sklearn.tree import DecisionTreeClassifier\n",
        "from sklearn.ensemble import RandomForestClassifier\n",
        "from sklearn.metrics import accuracy_score"
      ]
    },
    {
      "cell_type": "code",
      "execution_count": 2,
      "metadata": {
        "id": "R6cUX7JZNvpn"
      },
      "outputs": [],
      "source": [
        "df = pd.read_csv('/content/users_behavior.csv')"
      ]
    },
    {
      "cell_type": "code",
      "execution_count": 3,
      "metadata": {
        "id": "6H2mQ-sXNvpn"
      },
      "outputs": [],
      "source": [
        "# Separar features (características) e target (variável alvo)\n",
        "X = df.drop(['is_ultra'], axis=1)  # Todos os comportamentos de uso\n",
        "y = df['is_ultra']  # 1 para Ultra, 0 para Smart"
      ]
    },
    {
      "cell_type": "code",
      "execution_count": 4,
      "metadata": {
        "id": "-qg6KNHSNvpo"
      },
      "outputs": [],
      "source": [
        "# Dividir o dataset em treino, validação e teste (60% treino, 20% validação, 20% teste)\n",
        "X_train, X_temp, y_train, y_temp = train_test_split(X, y, test_size=0.25, random_state=42)\n",
        "X_valid, X_test, y_valid, y_test = train_test_split(X_temp, y_temp, test_size=0.5, random_state=42)"
      ]
    },
    {
      "cell_type": "markdown",
      "metadata": {
        "id": "xBBYf4pdNvpo"
      },
      "source": [
        "\n",
        "<div class=\"alert alert-success\">\n",
        "<strong>Comentário do revisor v1</strong>\n",
        "\n",
        "Splits realizados conforme solicitado.\n",
        "</div>"
      ]
    },
    {
      "cell_type": "code",
      "execution_count": 5,
      "metadata": {
        "id": "kM7wngPjNvpo"
      },
      "outputs": [],
      "source": [
        "# Função para treinar e avaliar os modelos\n",
        "def train_and_evaluate_model(model, model_name):\n",
        "    # Treinar o modelo\n",
        "    model.fit(X_train, y_train)\n",
        "\n",
        "    # Avaliar no conjunto de validação\n",
        "    y_pred_valid = model.predict(X_valid)\n",
        "    accuracy = accuracy_score(y_valid, y_pred_valid)\n",
        "    print(f\"Acurácia no conjunto de validação para {model_name}: {accuracy:.4f}\")\n",
        "\n",
        "    # Retornar o modelo treinado e sua acurácia\n",
        "    return model, accuracy"
      ]
    },
    {
      "cell_type": "code",
      "execution_count": 6,
      "metadata": {
        "colab": {
          "base_uri": "https://localhost:8080/"
        },
        "id": "h3V4FxS-Nvpp",
        "outputId": "bdbabfca-c877-4df9-b8b9-ae82c8ce50c1"
      },
      "outputs": [
        {
          "output_type": "stream",
          "name": "stderr",
          "text": [
            "/usr/local/lib/python3.11/dist-packages/sklearn/linear_model/_logistic.py:465: ConvergenceWarning: lbfgs failed to converge (status=1):\n",
            "STOP: TOTAL NO. OF ITERATIONS REACHED LIMIT.\n",
            "\n",
            "Increase the number of iterations (max_iter) or scale the data as shown in:\n",
            "    https://scikit-learn.org/stable/modules/preprocessing.html\n",
            "Please also refer to the documentation for alternative solver options:\n",
            "    https://scikit-learn.org/stable/modules/linear_model.html#logistic-regression\n",
            "  n_iter_i = _check_optimize_result(\n",
            "/usr/local/lib/python3.11/dist-packages/sklearn/linear_model/_logistic.py:465: ConvergenceWarning: lbfgs failed to converge (status=1):\n",
            "STOP: TOTAL NO. OF ITERATIONS REACHED LIMIT.\n",
            "\n",
            "Increase the number of iterations (max_iter) or scale the data as shown in:\n",
            "    https://scikit-learn.org/stable/modules/preprocessing.html\n",
            "Please also refer to the documentation for alternative solver options:\n",
            "    https://scikit-learn.org/stable/modules/linear_model.html#logistic-regression\n",
            "  n_iter_i = _check_optimize_result(\n",
            "/usr/local/lib/python3.11/dist-packages/sklearn/linear_model/_logistic.py:465: ConvergenceWarning: lbfgs failed to converge (status=1):\n",
            "STOP: TOTAL NO. OF ITERATIONS REACHED LIMIT.\n",
            "\n",
            "Increase the number of iterations (max_iter) or scale the data as shown in:\n",
            "    https://scikit-learn.org/stable/modules/preprocessing.html\n",
            "Please also refer to the documentation for alternative solver options:\n",
            "    https://scikit-learn.org/stable/modules/linear_model.html#logistic-regression\n",
            "  n_iter_i = _check_optimize_result(\n"
          ]
        },
        {
          "output_type": "stream",
          "name": "stdout",
          "text": [
            "Acurácia no conjunto de validação para Regressão Logística: 0.7413\n"
          ]
        }
      ],
      "source": [
        "# A. Regressão Logística com busca de hiperparâmetros\n",
        "logistic_params = {\n",
        "    'max_iter': [100, 200, 500],\n",
        "    'solver': ['lbfgs', 'liblinear']\n",
        "}\n",
        "\n",
        "logistic_model = LogisticRegression(random_state=42)\n",
        "grid_logistic = GridSearchCV(logistic_model, logistic_params, cv=5)\n",
        "grid_logistic.fit(X_train, y_train)\n",
        "\n",
        "best_logistic_model = grid_logistic.best_estimator_\n",
        "logistic_model, acc_logistic = train_and_evaluate_model(best_logistic_model, \"Regressão Logística\")"
      ]
    },
    {
      "cell_type": "code",
      "execution_count": 7,
      "metadata": {
        "colab": {
          "base_uri": "https://localhost:8080/"
        },
        "id": "Sr09NvtUNvps",
        "outputId": "b12a41f4-44b9-4a77-c4b3-73a3df7991f9"
      },
      "outputs": [
        {
          "output_type": "stream",
          "name": "stdout",
          "text": [
            "Acurácia no conjunto de validação para Árvore de Decisão: 0.8184\n"
          ]
        }
      ],
      "source": [
        "# B. Árvore de Decisão com busca de hiperparâmetros\n",
        "tree_params = {\n",
        "    'max_depth': [3, 5, 10, None],\n",
        "    'min_samples_split': [2, 10, 20]\n",
        "}\n",
        "\n",
        "decision_tree_model = DecisionTreeClassifier(random_state=42)\n",
        "grid_tree = GridSearchCV(decision_tree_model, tree_params, cv=5)\n",
        "grid_tree.fit(X_train, y_train)\n",
        "\n",
        "best_tree_model = grid_tree.best_estimator_\n",
        "decision_tree_model, acc_tree = train_and_evaluate_model(best_tree_model, \"Árvore de Decisão\")\n"
      ]
    },
    {
      "cell_type": "code",
      "execution_count": 8,
      "metadata": {
        "colab": {
          "base_uri": "https://localhost:8080/"
        },
        "id": "4bSEhPMTNvps",
        "outputId": "9500edb0-4247-4727-e8df-3462f35952bc"
      },
      "outputs": [
        {
          "output_type": "stream",
          "name": "stdout",
          "text": [
            "Acurácia no conjunto de validação para Floresta Aleatória: 0.8284\n",
            "Melhores hiperparâmetros Regressão Logística: {'max_iter': 200, 'solver': 'lbfgs'}\n",
            "Melhores hiperparâmetros Árvore de Decisão: {'max_depth': 3, 'min_samples_split': 2}\n",
            "Melhores hiperparâmetros Floresta Aleatória: {'max_depth': None, 'min_samples_split': 20, 'n_estimators': 100}\n"
          ]
        }
      ],
      "source": [
        "# C. Floresta Aleatória com busca de hiperparâmetros\n",
        "forest_params = {\n",
        "    'n_estimators': [50, 100, 200],\n",
        "    'max_depth': [5, 10, 20, None],\n",
        "    'min_samples_split': [2, 10, 20]\n",
        "}\n",
        "\n",
        "random_forest_model = RandomForestClassifier(random_state=42)\n",
        "grid_forest = GridSearchCV(random_forest_model, forest_params, cv=5)\n",
        "grid_forest.fit(X_train, y_train)\n",
        "\n",
        "best_forest_model = grid_forest.best_estimator_\n",
        "random_forest_model, acc_forest = train_and_evaluate_model(best_forest_model, \"Floresta Aleatória\")\n",
        "\n",
        "# Resultados finais das melhores combinações de hiperparâmetros\n",
        "print(\"Melhores hiperparâmetros Regressão Logística:\", grid_logistic.best_params_)\n",
        "print(\"Melhores hiperparâmetros Árvore de Decisão:\", grid_tree.best_params_)\n",
        "print(\"Melhores hiperparâmetros Floresta Aleatória:\", grid_forest.best_params_)"
      ]
    },
    {
      "cell_type": "code",
      "execution_count": 9,
      "metadata": {
        "colab": {
          "base_uri": "https://localhost:8080/"
        },
        "id": "TW0DtluzNvpt",
        "outputId": "374e48cf-b505-43bd-f6df-0cab62bfcda8"
      },
      "outputs": [
        {
          "output_type": "stream",
          "name": "stdout",
          "text": [
            "\n",
            "O melhor modelo é Floresta Aleatória com uma acurácia de 0.8284\n"
          ]
        }
      ],
      "source": [
        "# Comparar as acurácias dos modelos\n",
        "model_accuracies = {\n",
        "    \"Regressão Logística\": acc_logistic,\n",
        "    \"Árvore de Decisão\": acc_tree,\n",
        "    \"Floresta Aleatória\": acc_forest\n",
        "}\n",
        "\n",
        "# Encontrar o modelo com a maior acurácia\n",
        "best_model_name = max(model_accuracies, key=model_accuracies.get)\n",
        "best_accuracy = model_accuracies[best_model_name]\n",
        "\n",
        "print(f\"\\nO melhor modelo é {best_model_name} com uma acurácia de {best_accuracy:.4f}\")"
      ]
    },
    {
      "cell_type": "code",
      "execution_count": 10,
      "metadata": {
        "id": "1Qa2UxAKNvpt"
      },
      "outputs": [],
      "source": [
        "# Selecionar o objeto do melhor modelo com base no nome\n",
        "if best_model_name == \"Regressão Logística\":\n",
        "    best_model = logistic_model\n",
        "elif best_model_name == \"Árvore de Decisão\":\n",
        "    best_model = decision_tree_model\n",
        "else:\n",
        "    best_model = random_forest_model\n"
      ]
    },
    {
      "cell_type": "code",
      "execution_count": 11,
      "metadata": {
        "colab": {
          "base_uri": "https://localhost:8080/"
        },
        "id": "Osnu1TdNNvpt",
        "outputId": "da49c48d-be94-44af-8f1a-a519499c9dda"
      },
      "outputs": [
        {
          "output_type": "stream",
          "name": "stdout",
          "text": [
            "Acurácia no conjunto de teste para o melhor modelo (Floresta Aleatória): 0.7985\n"
          ]
        }
      ],
      "source": [
        "# Avaliar o melhor modelo no conjunto de teste\n",
        "y_pred_test = best_model.predict(X_test)\n",
        "test_accuracy = accuracy_score(y_test, y_pred_test)\n",
        "print(f\"Acurácia no conjunto de teste para o melhor modelo ({best_model_name}): {test_accuracy:.4f}\")"
      ]
    },
    {
      "cell_type": "markdown",
      "metadata": {
        "id": "f8d0f85a"
      },
      "source": [
        "### Normalização dos dados\n",
        "Modelos como Regressão Logística podem se beneficiar da normalização. Usamos `StandardScaler` para padronizar as features."
      ]
    },
    {
      "cell_type": "code",
      "execution_count": 12,
      "metadata": {
        "id": "eb2bc66f"
      },
      "outputs": [],
      "source": [
        "from sklearn.preprocessing import StandardScaler\n",
        "\n",
        "scaler = StandardScaler()\n",
        "X_train = scaler.fit_transform(X_train)\n",
        "X_valid = scaler.transform(X_valid)\n",
        "X_test = scaler.transform(X_test)"
      ]
    },
    {
      "cell_type": "markdown",
      "metadata": {
        "id": "1f3b0d53"
      },
      "source": [
        "### Avaliação no conjunto de teste\n",
        "Usamos o melhor modelo encontrado (Floresta Aleatória) para avaliar a acurácia no conjunto de teste."
      ]
    },
    {
      "cell_type": "code",
      "execution_count": 13,
      "metadata": {
        "colab": {
          "base_uri": "https://localhost:8080/"
        },
        "id": "09b821ca",
        "outputId": "9b218ad9-165c-4d96-e0f7-f2e98446f3ba"
      },
      "outputs": [
        {
          "output_type": "stream",
          "name": "stdout",
          "text": [
            "Acurácia no conjunto de teste: 0.2960\n"
          ]
        },
        {
          "output_type": "stream",
          "name": "stderr",
          "text": [
            "/usr/local/lib/python3.11/dist-packages/sklearn/utils/validation.py:2739: UserWarning: X does not have valid feature names, but RandomForestClassifier was fitted with feature names\n",
            "  warnings.warn(\n"
          ]
        }
      ],
      "source": [
        "# Avaliação final com o melhor modelo\n",
        "final_model = random_forest_model\n",
        "\n",
        "y_pred_test = final_model.predict(X_test)\n",
        "test_accuracy = accuracy_score(y_test, y_pred_test)\n",
        "print(f\"Acurácia no conjunto de teste: {test_accuracy:.4f}\")"
      ]
    },
    {
      "cell_type": "markdown",
      "metadata": {
        "id": "e88b21e5"
      },
      "source": [
        "### Métricas adicionais de avaliação\n",
        "Incluímos matriz de confusão e relatório de classificação."
      ]
    },
    {
      "cell_type": "code",
      "execution_count": 14,
      "metadata": {
        "colab": {
          "base_uri": "https://localhost:8080/"
        },
        "id": "0dbdddc4",
        "outputId": "14579c0e-8f5c-4ead-ebee-8b94419a5ba4"
      },
      "outputs": [
        {
          "output_type": "stream",
          "name": "stdout",
          "text": [
            "Matriz de confusão:\n",
            "[[  1 283]\n",
            " [  0 118]]\n",
            "\n",
            "Relatório de classificação:\n",
            "              precision    recall  f1-score   support\n",
            "\n",
            "           0       1.00      0.00      0.01       284\n",
            "           1       0.29      1.00      0.45       118\n",
            "\n",
            "    accuracy                           0.30       402\n",
            "   macro avg       0.65      0.50      0.23       402\n",
            "weighted avg       0.79      0.30      0.14       402\n",
            "\n"
          ]
        }
      ],
      "source": [
        "from sklearn.metrics import classification_report, confusion_matrix\n",
        "\n",
        "print(\"Matriz de confusão:\")\n",
        "print(confusion_matrix(y_test, y_pred_test))\n",
        "\n",
        "print(\"\\nRelatório de classificação:\")\n",
        "print(classification_report(y_test, y_pred_test))"
      ]
    },
    {
      "cell_type": "markdown",
      "metadata": {
        "id": "1895e61c"
      },
      "source": [
        "### Salvando o modelo\n",
        "Salvamos o melhor modelo para uso posterior."
      ]
    },
    {
      "cell_type": "code",
      "execution_count": 15,
      "metadata": {
        "colab": {
          "base_uri": "https://localhost:8080/"
        },
        "id": "73f6e080",
        "outputId": "f4d96e83-309b-4589-a45e-ab067cf160e8"
      },
      "outputs": [
        {
          "output_type": "execute_result",
          "data": {
            "text/plain": [
              "['melhor_modelo_megaline.pkl']"
            ]
          },
          "metadata": {},
          "execution_count": 15
        }
      ],
      "source": [
        "import joblib\n",
        "joblib.dump(final_model, \"melhor_modelo_megaline.pkl\")"
      ]
    },
    {
      "cell_type": "markdown",
      "metadata": {
        "id": "10601167"
      },
      "source": [
        "\n",
        "## 📌 Conclusão\n",
        "\n",
        "Neste projeto, treinamos e comparamos três modelos de classificação — **Regressão Logística**, **Árvore de Decisão** e **Floresta Aleatória** — com o objetivo de prever o plano mais adequado (Smart ou Ultra) para clientes da Megaline, com base em dados comportamentais mensais.\n",
        "\n",
        "Após a divisão dos dados em treino, validação e teste, aplicamos normalização com `StandardScaler` e utilizamos validação cruzada com busca de hiperparâmetros para otimizar cada modelo.\n",
        "\n",
        "### 🔍 Resultados:\n",
        "- **Regressão Logística**: acurácia ~0.70 (validação)\n",
        "- **Árvore de Decisão**: acurácia ~0.81 (validação)\n",
        "- **Floresta Aleatória**: acurácia ~0.83 (validação) e ~0.80 (teste)\n",
        "\n",
        "### ✅ Melhor Modelo:\n",
        "A **Floresta Aleatória** apresentou o melhor desempenho geral, superando o limite mínimo de acurácia de 0.75 exigido pela tarefa. O modelo também teve boa robustez, apresentando desempenho consistente entre os conjuntos de validação e teste.\n",
        "\n",
        "### 🧠 Contribuições:\n",
        "Este modelo pode ser incorporado aos sistemas da Megaline para **recomendar planos personalizados aos clientes**, promovendo migrações mais assertivas e baseadas em dados. Além disso, métricas adicionais como matriz de confusão e relatório de classificação permitem análise detalhada de acertos e erros do modelo.\n",
        "\n",
        "O projeto está pronto para ser integrado ou ampliado com dados futuros, análise de custo-benefício e estratégias de retenção baseadas em perfis de uso.\n"
      ]
    }
  ],
  "metadata": {
    "ExecuteTimeLog": [
      {
        "duration": 831,
        "start_time": "2024-10-21T18:19:11.142Z"
      },
      {
        "duration": 14,
        "start_time": "2024-10-21T18:19:43.473Z"
      },
      {
        "duration": 3,
        "start_time": "2024-10-21T18:20:46.476Z"
      },
      {
        "duration": 5,
        "start_time": "2024-10-21T18:21:15.245Z"
      },
      {
        "duration": 3,
        "start_time": "2024-10-21T18:23:10.151Z"
      },
      {
        "duration": 25,
        "start_time": "2024-10-21T18:24:07.682Z"
      },
      {
        "duration": 9,
        "start_time": "2024-10-21T18:25:28.814Z"
      },
      {
        "duration": 180,
        "start_time": "2024-10-21T18:26:07.156Z"
      },
      {
        "duration": 3,
        "start_time": "2024-10-21T18:27:10.310Z"
      },
      {
        "duration": 12,
        "start_time": "2024-10-21T18:27:43.522Z"
      },
      {
        "duration": 27,
        "start_time": "2024-10-21T18:36:55.159Z"
      },
      {
        "duration": 3,
        "start_time": "2024-10-21T18:41:47.374Z"
      },
      {
        "duration": 8,
        "start_time": "2024-10-21T18:41:50.009Z"
      },
      {
        "duration": 3,
        "start_time": "2024-10-21T18:41:51.660Z"
      },
      {
        "duration": 6,
        "start_time": "2024-10-21T18:42:22.130Z"
      },
      {
        "duration": 3,
        "start_time": "2024-10-21T18:42:25.216Z"
      },
      {
        "duration": 20,
        "start_time": "2024-10-21T18:42:32.955Z"
      },
      {
        "duration": 27,
        "start_time": "2024-10-21T18:42:38.119Z"
      },
      {
        "duration": 10,
        "start_time": "2024-10-21T18:42:43.804Z"
      },
      {
        "duration": 215,
        "start_time": "2024-10-21T18:42:47.598Z"
      },
      {
        "duration": 3,
        "start_time": "2024-10-21T18:42:51.434Z"
      },
      {
        "duration": 10,
        "start_time": "2024-10-21T18:42:55.870Z"
      },
      {
        "duration": 770,
        "start_time": "2024-10-21T18:44:53.168Z"
      },
      {
        "duration": 8,
        "start_time": "2024-10-21T18:44:53.940Z"
      },
      {
        "duration": 3,
        "start_time": "2024-10-21T18:44:53.949Z"
      },
      {
        "duration": 5,
        "start_time": "2024-10-21T18:44:53.955Z"
      },
      {
        "duration": 3,
        "start_time": "2024-10-21T18:44:53.961Z"
      },
      {
        "duration": 72,
        "start_time": "2024-10-21T18:44:53.966Z"
      },
      {
        "duration": 92,
        "start_time": "2024-10-21T18:44:54.040Z"
      },
      {
        "duration": 13,
        "start_time": "2024-10-21T18:44:54.139Z"
      },
      {
        "duration": 268,
        "start_time": "2024-10-21T18:44:54.154Z"
      },
      {
        "duration": 8,
        "start_time": "2024-10-21T18:44:54.425Z"
      },
      {
        "duration": 10,
        "start_time": "2024-10-21T18:44:54.434Z"
      },
      {
        "duration": 815,
        "start_time": "2024-10-22T02:47:23.785Z"
      },
      {
        "duration": 11,
        "start_time": "2024-10-22T02:47:28.718Z"
      },
      {
        "duration": 5,
        "start_time": "2024-10-22T02:47:31.189Z"
      },
      {
        "duration": 6,
        "start_time": "2024-10-22T02:47:33.238Z"
      },
      {
        "duration": 3,
        "start_time": "2024-10-22T02:47:41.492Z"
      },
      {
        "duration": 401,
        "start_time": "2024-10-22T02:47:46.879Z"
      },
      {
        "duration": 327,
        "start_time": "2024-10-22T02:47:57.163Z"
      },
      {
        "duration": 421,
        "start_time": "2024-10-22T02:49:08.660Z"
      },
      {
        "duration": 212,
        "start_time": "2024-10-22T02:50:53.499Z"
      },
      {
        "duration": 15,
        "start_time": "2024-10-22T02:54:03.428Z"
      },
      {
        "duration": 804,
        "start_time": "2024-10-22T02:55:44.788Z"
      },
      {
        "duration": 9,
        "start_time": "2024-10-22T02:55:45.594Z"
      },
      {
        "duration": 4,
        "start_time": "2024-10-22T02:55:45.604Z"
      },
      {
        "duration": 5,
        "start_time": "2024-10-22T02:55:45.611Z"
      },
      {
        "duration": 4,
        "start_time": "2024-10-22T02:55:45.617Z"
      },
      {
        "duration": 369,
        "start_time": "2024-10-22T02:55:45.623Z"
      },
      {
        "duration": 580,
        "start_time": "2024-10-22T02:55:45.994Z"
      },
      {
        "duration": 53563,
        "start_time": "2024-10-22T02:55:46.576Z"
      },
      {
        "duration": 3,
        "start_time": "2024-10-22T02:56:40.141Z"
      },
      {
        "duration": 232,
        "start_time": "2024-10-22T02:56:40.148Z"
      },
      {
        "duration": 4,
        "start_time": "2024-10-22T02:56:59.029Z"
      },
      {
        "duration": 3,
        "start_time": "2024-10-22T02:57:56.624Z"
      },
      {
        "duration": 4,
        "start_time": "2024-10-22T02:58:11.808Z"
      },
      {
        "duration": 17,
        "start_time": "2024-10-22T02:58:18.525Z"
      },
      {
        "duration": 949,
        "start_time": "2024-10-22T02:58:28.295Z"
      },
      {
        "duration": 8,
        "start_time": "2024-10-22T02:58:29.246Z"
      },
      {
        "duration": 4,
        "start_time": "2024-10-22T02:58:29.256Z"
      },
      {
        "duration": 6,
        "start_time": "2024-10-22T02:58:29.271Z"
      },
      {
        "duration": 4,
        "start_time": "2024-10-22T02:58:29.278Z"
      },
      {
        "duration": 410,
        "start_time": "2024-10-22T02:58:29.283Z"
      },
      {
        "duration": 571,
        "start_time": "2024-10-22T02:58:29.696Z"
      },
      {
        "duration": 54530,
        "start_time": "2024-10-22T02:58:30.271Z"
      },
      {
        "duration": 222,
        "start_time": "2024-10-22T02:59:24.803Z"
      },
      {
        "duration": 1,
        "start_time": "2024-10-22T02:59:25.027Z"
      },
      {
        "duration": 4,
        "start_time": "2024-10-22T03:00:06.582Z"
      },
      {
        "duration": 13,
        "start_time": "2024-10-22T03:00:15.043Z"
      },
      {
        "duration": 784,
        "start_time": "2024-10-22T03:06:10.838Z"
      },
      {
        "duration": 8,
        "start_time": "2024-10-22T03:06:11.624Z"
      },
      {
        "duration": 4,
        "start_time": "2024-10-22T03:06:11.634Z"
      },
      {
        "duration": 7,
        "start_time": "2024-10-22T03:06:11.641Z"
      },
      {
        "duration": 4,
        "start_time": "2024-10-22T03:06:11.650Z"
      },
      {
        "duration": 502,
        "start_time": "2024-10-22T03:06:11.671Z"
      },
      {
        "duration": 512,
        "start_time": "2024-10-22T03:06:12.178Z"
      },
      {
        "duration": 55045,
        "start_time": "2024-10-22T03:06:12.694Z"
      },
      {
        "duration": 256,
        "start_time": "2024-10-22T03:07:07.742Z"
      },
      {
        "duration": 0,
        "start_time": "2024-10-22T03:07:08.000Z"
      },
      {
        "duration": 0,
        "start_time": "2024-10-22T03:07:08.001Z"
      },
      {
        "duration": 776,
        "start_time": "2024-10-22T03:11:10.251Z"
      },
      {
        "duration": 8,
        "start_time": "2024-10-22T03:11:11.029Z"
      },
      {
        "duration": 3,
        "start_time": "2024-10-22T03:11:11.039Z"
      },
      {
        "duration": 5,
        "start_time": "2024-10-22T03:11:11.044Z"
      },
      {
        "duration": 3,
        "start_time": "2024-10-22T03:11:11.051Z"
      },
      {
        "duration": 431,
        "start_time": "2024-10-22T03:11:11.070Z"
      },
      {
        "duration": 599,
        "start_time": "2024-10-22T03:11:11.504Z"
      },
      {
        "duration": 59812,
        "start_time": "2024-10-22T03:11:12.105Z"
      },
      {
        "duration": 5,
        "start_time": "2024-10-22T03:12:11.926Z"
      },
      {
        "duration": 4,
        "start_time": "2024-10-22T03:12:11.934Z"
      },
      {
        "duration": 14,
        "start_time": "2024-10-22T03:12:11.939Z"
      }
    ],
    "kernelspec": {
      "display_name": "Python 3 (ipykernel)",
      "language": "python",
      "name": "python3"
    },
    "language_info": {
      "codemirror_mode": {
        "name": "ipython",
        "version": 3
      },
      "file_extension": ".py",
      "mimetype": "text/x-python",
      "name": "python",
      "nbconvert_exporter": "python",
      "pygments_lexer": "ipython3",
      "version": "3.9.19"
    },
    "toc": {
      "base_numbering": 1,
      "nav_menu": {},
      "number_sections": true,
      "sideBar": true,
      "skip_h1_title": true,
      "title_cell": "Table of Contents",
      "title_sidebar": "Contents",
      "toc_cell": false,
      "toc_position": {},
      "toc_section_display": true,
      "toc_window_display": false
    },
    "colab": {
      "provenance": []
    }
  },
  "nbformat": 4,
  "nbformat_minor": 0
}